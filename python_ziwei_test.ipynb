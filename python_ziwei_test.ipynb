{
 "cells": [
  {
   "cell_type": "code",
   "execution_count": 20,
   "metadata": {},
   "outputs": [
    {
     "name": "stdout",
     "output_type": "stream",
     "text": [
      "3 11\n",
      "AB 1 2 3 4 3 2 3 3 2 1 2 35\n",
      "CD 0 0 1 3 2 2 0 1 1 2 3 25\n",
      "EF 5 4 4 3 4 5 1 3 3 5 4 40\n",
      "AB 60 75 C\n",
      "CD 40 50 F\n",
      "EF 80 100 A\n"
     ]
    }
   ],
   "source": [
    "import numpy as np \n",
    "import math\n",
    "\n",
    "N, M = map(int,input().split())\n",
    "data = []\n",
    "names = []\n",
    "slet = []\n",
    "total = np.zeros(N)\n",
    "adj = np.zeros(N)\n",
    "sgra = np.zeros(N)\n",
    "\n",
    "for i in range(N):\n",
    "    newInput = input()  # AB 。。。。。。\n",
    "    str_list = newInput.split() # ['AB', '#',...]\n",
    "    names.append(str_list[0])\n",
    "    total[i] = 0\n",
    "    grades = []\n",
    "    for j in range(1, len(str_list) - 1): #need to append grades one by one in order to convert them to int\n",
    "        grades.append(int(str_list[j]))\n",
    "    total[i] = sum(grades) - min(grades) + int(str_list[-1])\n",
    "    \n",
    "hi = max(total)\n",
    "    \n",
    "for i in range(N):\n",
    "    adj[i] = 100 * total[i]/hi\n",
    "    sgra[i] = int(math.ceil(adj[i]))\n",
    "    if sgra[i] >= 90:\n",
    "        slet.append(\"A\")\n",
    "    elif sgra[i] >= 80:\n",
    "        slet.append(\"B\")\n",
    "    elif sgra[i] >= 70:\n",
    "        slet.append(\"C\")\n",
    "    elif sgra[i] >= 60:\n",
    "        slet.append(\"D\")\n",
    "    else:\n",
    "        slet.append(\"F\")\n",
    "    print(names[i], int(total[i]),int(sgra[i]),slet[i])    "
   ]
  },
  {
   "cell_type": "code",
   "execution_count": 23,
   "metadata": {},
   "outputs": [
    {
     "name": "stdout",
     "output_type": "stream",
     "text": [
      "<map object at 0x000002438BCB06A0>\n"
     ]
    }
   ],
   "source": [
    "list = ['1', '2', '3']\n",
    "list2 = map(int, list)\n",
    "\n",
    "print(list2)"
   ]
  },
  {
   "cell_type": "code",
   "execution_count": 1,
   "metadata": {},
   "outputs": [
    {
     "name": "stdout",
     "output_type": "stream",
     "text": [
      "1\n"
     ]
    },
    {
     "ename": "IndexError",
     "evalue": "list index out of range",
     "output_type": "error",
     "traceback": [
      "\u001b[1;31m---------------------------------------------------------------------------\u001b[0m",
      "\u001b[1;31mIndexError\u001b[0m                                Traceback (most recent call last)",
      "\u001b[1;32m<ipython-input-1-e9c30b5fc040>\u001b[0m in \u001b[0;36m<module>\u001b[1;34m()\u001b[0m\n\u001b[0;32m      5\u001b[0m \u001b[0minput_str\u001b[0m \u001b[1;33m=\u001b[0m \u001b[0minput_str\u001b[0m\u001b[1;33m.\u001b[0m\u001b[0msplit\u001b[0m\u001b[1;33m(\u001b[0m\u001b[1;33m)\u001b[0m\u001b[1;33m\u001b[0m\u001b[0m\n\u001b[0;32m      6\u001b[0m \u001b[0mN\u001b[0m \u001b[1;33m=\u001b[0m \u001b[0mint\u001b[0m\u001b[1;33m(\u001b[0m\u001b[0minput_str\u001b[0m\u001b[1;33m[\u001b[0m\u001b[1;36m0\u001b[0m\u001b[1;33m]\u001b[0m\u001b[1;33m)\u001b[0m\u001b[1;33m\u001b[0m\u001b[0m\n\u001b[1;32m----> 7\u001b[1;33m \u001b[0mi\u001b[0m \u001b[1;33m=\u001b[0m \u001b[0mint\u001b[0m\u001b[1;33m(\u001b[0m\u001b[0minput_str\u001b[0m\u001b[1;33m[\u001b[0m\u001b[1;36m1\u001b[0m\u001b[1;33m]\u001b[0m\u001b[1;33m)\u001b[0m\u001b[1;33m\u001b[0m\u001b[0m\n\u001b[0m\u001b[0;32m      8\u001b[0m \u001b[0mx\u001b[0m \u001b[1;33m=\u001b[0m \u001b[0mint\u001b[0m\u001b[1;33m(\u001b[0m\u001b[0minput_str\u001b[0m\u001b[1;33m[\u001b[0m\u001b[1;36m2\u001b[0m\u001b[1;33m]\u001b[0m\u001b[1;33m)\u001b[0m\u001b[1;33m\u001b[0m\u001b[0m\n\u001b[0;32m      9\u001b[0m \u001b[0minput_str\u001b[0m \u001b[1;33m=\u001b[0m \u001b[0minput\u001b[0m\u001b[1;33m(\u001b[0m\u001b[1;33m)\u001b[0m\u001b[1;33m\u001b[0m\u001b[0m\n",
      "\u001b[1;31mIndexError\u001b[0m: list index out of range"
     ]
    }
   ],
   "source": [
    "# 2017-18\n",
    "# A Full-fill-ing Problem\n",
    "import numpy as np\n",
    "input_str = input()\n",
    "input_str = input_str.split()\n",
    "N = int(input_str[0])\n",
    "i = int(input_str[1])\n",
    "x = int(input_str[2])\n",
    "input_str = input()\n",
    "input_str = input_str.split()\n",
    "array = []\n",
    "for k in range(N):\n",
    "    array.append(int(input_str[k]))\n",
    "v = array[i]\n",
    "\n",
    "# def fill(length, idx, newV):\n",
    "#     if idx < 0 or idx > length:\n",
    "#         return None\n",
    "    \n",
    "#     array[idx] = newV\n",
    "#     if v == array[idx + 1]:\n",
    "#         fill(length, idx + 1, newV)\n",
    "#     if v == array[idx - 1]:\n",
    "#         fill(length, idx - 1, newV)\n",
    "    \n",
    "\n",
    "# fill(N,i,x)\n",
    "\n",
    "def fill(array, length, idx, newV):\n",
    "    if idx < 0 or idx >= length:\n",
    "        return None\n",
    "    else:\n",
    "        v = array[idx]\n",
    "        array[idx] = newV\n",
    "        print(array, v, idx)\n",
    "    if v == array[idx + 1]:\n",
    "        fill(array, length, idx + 1, newV)\n",
    "    if v == array[idx - 1]:\n",
    "        fill(array, length, idx - 1, newV)\n",
    "    \n",
    "fill(array, N, i, x)\n",
    "\n",
    "print(array)"
   ]
  },
  {
   "cell_type": "code",
   "execution_count": 27,
   "metadata": {},
   "outputs": [
    {
     "name": "stdout",
     "output_type": "stream",
     "text": [
      "1.6666666666666667\n"
     ]
    }
   ],
   "source": [
    "#Batter up\n",
    "first_line = 3\n",
    "second_line = [3, 0, 2]\n",
    "\n",
    "# first_line = 11\n",
    "# second_line = [-1, -1, -1, -1, 0, 0, 0, 0, 0, 0, 1]\n",
    "\n",
    "def batter_up():\n",
    "    count = 0\n",
    "    sum = 0\n",
    "    for element in second_line:\n",
    "        if element > -1:\n",
    "            count = count + 1\n",
    "            sum = sum + element\n",
    "    print(sum/count)\n",
    "batter_up()"
   ]
  },
  {
   "cell_type": "code",
   "execution_count": 13,
   "metadata": {},
   "outputs": [
    {
     "name": "stdout",
     "output_type": "stream",
     "text": [
      "ab 2.0\n",
      "ba 1.0\n",
      "aa 3.0\n"
     ]
    }
   ],
   "source": [
    "import numpy as np\n",
    "#C'mon K-mers\n",
    "L = 1\n",
    "N = 7\n",
    "k = 2\n",
    "Q = 3\n",
    "long_string = \"aaabaab\"\n",
    "mers = [\"ab\", \"ba\", \"aa\"]  # array(Q)\n",
    "\n",
    "# L = 1\n",
    "# N = 7\n",
    "# k = 3\n",
    "# Q = 5\n",
    "# long_string = \"aaabaab\"\n",
    "# mers = [\"aaa\", \"aab\", \"aaa\", \"baa\", \"xyz\"] \n",
    "\n",
    "counts = np.zeros(Q)\n",
    "for i in range(0, N - k + 1):\n",
    "    for j in range(Q):\n",
    "        if long_string[i:i + k] == mers[j]:\n",
    "            counts[j] = counts[j] + 1\n",
    "        \n",
    "for i in range(Q):\n",
    "    print(mers[i], counts[i])"
   ]
  },
  {
   "cell_type": "code",
   "execution_count": 20,
   "metadata": {},
   "outputs": [
    {
     "name": "stdout",
     "output_type": "stream",
     "text": [
      "28.57142857142857\n"
     ]
    }
   ],
   "source": [
    "#The Professor's Gradebook\n",
    "#You can either store the grades in a 2d or 1d array.\n",
    "#You can update S_total and Max along the way or use max(), sum() methods \n",
    "\n",
    "#Where are my genes\n",
    "top = 0\n",
    "bottom = 0\n",
    "input_str = \"GATTACA\"\n",
    "for i in input_str:\n",
    "    if i == \"C\":\n",
    "        top = top+1\n",
    "        bottom = bottom + 1\n",
    "    if i == \"G\":\n",
    "        top = top+1\n",
    "        bottom = bottom + 1\n",
    "    if i == \"A\":\n",
    "        bottom = bottom + 1\n",
    "    if i == \"T\":\n",
    "        bottom = bottom + 1\n",
    "        \n",
    "print(top/bottom*100)"
   ]
  },
  {
   "cell_type": "code",
   "execution_count": 47,
   "metadata": {},
   "outputs": [
    {
     "name": "stdout",
     "output_type": "stream",
     "text": [
      "2 6 13.0\n"
     ]
    }
   ],
   "source": [
    "#2016-17\n",
    "#A Greedy Hike\n",
    "x_len = 5\n",
    "y_len = 7\n",
    "x_start = 2\n",
    "y_start = 1\n",
    "str = \"0 3 15 10 15 5 0 5 8 20 12 12 17 5 7 10 15 5 12 9 11 5 7 3 2 5 5 7 0 9 11 8 9 2 3\"\n",
    "\n",
    "\n",
    "# x_len = 4\n",
    "# y_len = 4\n",
    "# x_start = 1\n",
    "# y_start = 0\n",
    "# str = \"0 2 10 15 0 10 15 20 0 3 3 3 0 10 10 10\"\n",
    "\n",
    "x_cur = 0\n",
    "y_cur = 0\n",
    "\n",
    "strList = str.split(\" \")\n",
    "map = np.zeros((x_len, y_len))\n",
    "for char in strList:\n",
    "    if char != \" \":\n",
    "        map[x_cur][y_cur] = int(char)\n",
    "        y_cur = y_cur + 1\n",
    "        if y_cur == y_len:\n",
    "            x_cur = x_cur + 1\n",
    "            y_cur = 0\n",
    "\n",
    "#Greedy Hike\n",
    "x_cur = x_start\n",
    "y_cur = y_start\n",
    "E = 0\n",
    "for i in range(y_start, y_len - 1):\n",
    "    threeNeighbors = []\n",
    "    \n",
    "    # x0\n",
    "    threeNeighbors.append(map[x_cur, y_cur + 1])\n",
    "    # x-1\n",
    "    if x_cur != 0:\n",
    "        threeNeighbors.append(map[x_cur - 1, y_cur + 1])\n",
    "    else:\n",
    "        threeNeighbors.append(np.iinfo(np.int16).max)\n",
    "    # x1\n",
    "    if x_cur != x_len - 1:\n",
    "        threeNeighbors.append(map[x_cur + 1, y_cur + 1])\n",
    "    else:\n",
    "        threeNeighbors.append(np.iinfo(np.int16).max)\n",
    "    threeNeighbors = abs(threeNeighbors - map[x_cur, y_cur])\n",
    "    if threeNeighbors[0] == min(threeNeighbors):\n",
    "        y_cur = y_cur + 1\n",
    "        E = E + threeNeighbors[0]\n",
    "    elif threeNeighbors[1] == min(threeNeighbors):\n",
    "        x_cur = x_cur -1\n",
    "        y_cur = y_cur + 1\n",
    "        E = E + threeNeighbors[1]\n",
    "    elif threeNeighbors[2] == min(threeNeighbors):\n",
    "        x_cur = x_cur + 1\n",
    "        y_cur = y_cur + 1\n",
    "        E = E + threeNeighbors[2]\n",
    "print(x_cur, y_cur, E)"
   ]
  },
  {
   "cell_type": "code",
   "execution_count": 52,
   "metadata": {},
   "outputs": [
    {
     "name": "stdout",
     "output_type": "stream",
     "text": [
      "Format #3\n"
     ]
    }
   ],
   "source": [
    "#Calendar Conundrum\n",
    "a = 57\n",
    "b = 2\n",
    "c = 10\n",
    "\n",
    "if a > 31:\n",
    "    print(\"Format #3\")\n",
    "elif a > 12:\n",
    "    if c > 31:\n",
    "        print(\"Format #2\")\n",
    "    else:\n",
    "        print(\"ambiguous\")\n",
    "else:\n",
    "    if b > 12:\n",
    "        print(\"Format #1\")\n",
    "    else:\n",
    "        print(\"ambiguous\")"
   ]
  },
  {
   "cell_type": "code",
   "execution_count": 57,
   "metadata": {},
   "outputs": [
    {
     "name": "stdout",
     "output_type": "stream",
     "text": [
      "problem\n"
     ]
    }
   ],
   "source": [
    "#Melborp Lasrever\n",
    "def reverse(str, length):\n",
    "    if length == 1:\n",
    "        return str\n",
    "    else:\n",
    "        return reverse(str[1:], length - 1) + str[0]\n",
    "\n",
    "string = \"melborp\"\n",
    "#string = \"lasrever\"\n",
    "print(reverse(string, len(string)))"
   ]
  },
  {
   "cell_type": "code",
   "execution_count": 8,
   "metadata": {},
   "outputs": [
    {
     "name": "stdout",
     "output_type": "stream",
     "text": [
      "12\n"
     ]
    }
   ],
   "source": [
    "#Odwrotna Notacja Polska\n",
    "numbers = []\n",
    "operations = []\n",
    "string = \"1 2 + 3 1 + *\"\n",
    "#string = \"1 2 + 3 1 + * 12 ==\"\n",
    "#string = \"1 2 + 3 1 + * 12 == false and\"\n",
    "#string = \"1 2 + 3 1 + * 12 == 100 and\"\n",
    "#string = \"1 2 3 *\"\n",
    "str_list = string.split(\" \")\n",
    "for str in str_list:\n",
    "    if str.isdigit():\n",
    "        numbers.append(int(str))\n",
    "    elif str == \"true\":\n",
    "        numbers.append(True)\n",
    "    elif str == \"false\":\n",
    "        numbers.append(False)\n",
    "    elif str == \"+\" and len(numbers) >= 2:\n",
    "        a = numbers.pop()\n",
    "        b = numbers.pop()\n",
    "        numbers.append(a + b)\n",
    "    elif str == \"*\" and len(numbers) >= 2:\n",
    "        a = numbers.pop()\n",
    "        b = numbers.pop()\n",
    "        numbers.append(a * b)\n",
    "    elif str == \"==\" and len(numbers) >= 2:\n",
    "        a = numbers.pop()\n",
    "        b = numbers.pop()\n",
    "        if type(a) != type(b):\n",
    "            numbers = [\"TYPE ERROR\"]\n",
    "            break\n",
    "        numbers.append(a == b)\n",
    "    elif str == \"and\" and len(numbers) >= 2:\n",
    "        a = numbers.pop()\n",
    "        b = numbers.pop()\n",
    "        if type(a) != type(b):\n",
    "            numbers = [\"TYPE ERROR\"]\n",
    "            break\n",
    "        numbers.append(a and b)\n",
    "    elif str == \"or\" and len(numbers) >= 2:\n",
    "        a = numbers.pop()\n",
    "        b = numbers.pop()\n",
    "        if type(a) != type(b):\n",
    "            numbers = [\"TYPE ERROR\"]\n",
    "            break\n",
    "        numbers.append(a or b)\n",
    "    else:\n",
    "        numbers = [\"SYNTAX ERROR\"]\n",
    "        break\n",
    "if len(numbers) == 1:\n",
    "    print(numbers.pop())\n",
    "else:\n",
    "    print(\"SYNTAX ERROR\")"
   ]
  },
  {
   "cell_type": "code",
   "execution_count": 12,
   "metadata": {},
   "outputs": [
    {
     "name": "stdout",
     "output_type": "stream",
     "text": [
      "alemax maxosmaxosmaxosmaxos\n"
     ]
    }
   ],
   "source": [
    "#The Noble Houses of Apaxia\n",
    "string = \"menolaxios mox\"\n",
    "string = \"alemax maxos\"\n",
    "str_list = string.split(\" \")\n",
    "t = len(str_list[1])\n",
    "if t == 5:\n",
    "    t = 4\n",
    "print(str_list[0] + \" \" + str_list[1]*t)"
   ]
  },
  {
   "cell_type": "code",
   "execution_count": 15,
   "metadata": {},
   "outputs": [
    {
     "name": "stdout",
     "output_type": "stream",
     "text": [
      "90\n"
     ]
    }
   ],
   "source": [
    "#2015-16\n",
    "# A Winning Strategy\n",
    "m = 100\n",
    "b = 5\n",
    "n = 4\n",
    "list = [0,1,0,0]\n",
    "#list = [1,1,1,1]\n",
    "\n",
    "# m = 140\n",
    "# b = 20\n",
    "# n = 8\n",
    "# list = [0,0,0,1,0,1,1,1]\n",
    "\n",
    "bn = b\n",
    "for i in list:\n",
    "    if m <= 0:\n",
    "        break\n",
    "    if i == 0: #tail\n",
    "        m = m - bn\n",
    "        bn = min(2*bn, m)\n",
    "    else: #head\n",
    "        m = m + bn\n",
    "        bn = min(b, m)\n",
    "if m <= 0 :\n",
    "    print(\"Broke\")\n",
    "else:\n",
    "    print(m)"
   ]
  },
  {
   "cell_type": "code",
   "execution_count": 18,
   "metadata": {},
   "outputs": [
    {
     "name": "stdout",
     "output_type": "stream",
     "text": [
      "CLEAN\n"
     ]
    }
   ],
   "source": [
    "# Grotesquely Clean\n",
    "str = \"1 1 1 1 2 1 3 1 1 2\"\n",
    "str = \"1 1 1 1 2 6 3 1 1 2\"\n",
    "str = \"5 5 4 5 3 5 2 5 4 3\"\n",
    "str_list = str.split(\" \")\n",
    "sum = 0\n",
    "for s in str_list:\n",
    "    i = int(s)\n",
    "    if i == 6:\n",
    "        sum = 31\n",
    "        break\n",
    "    sum = sum + i\n",
    "if sum < 30:\n",
    "    print(\"DO NOT CLEAN\")\n",
    "else:\n",
    "    print(\"CLEAN\")"
   ]
  },
  {
   "cell_type": "code",
   "execution_count": 22,
   "metadata": {},
   "outputs": [
    {
     "name": "stdout",
     "output_type": "stream",
     "text": [
      "PALINDROME\n"
     ]
    }
   ],
   "source": [
    "#I Hope You're Not Aibohphobic\n",
    "def recursion(str):\n",
    "    if len(str) == 1:\n",
    "        return \"PALINDROME\"\n",
    "    elif len(str) == 2:\n",
    "        if str[0] == str[1]:\n",
    "            return \"PALINDROME\"\n",
    "        else:\n",
    "            return \"NOT PALINDROME\"\n",
    "    else:\n",
    "        if str[0] == str[-1]:\n",
    "            return recursion(str[1:-1])\n",
    "        else:\n",
    "            return \"NOT PALINDROME\"\n",
    "\n",
    "input = \"aibohphobia\"\n",
    "input = \"foobar\"\n",
    "input = \"abba\"\n",
    "print(recursion(input))"
   ]
  },
  {
   "cell_type": "code",
   "execution_count": 12,
   "metadata": {},
   "outputs": [
    {
     "name": "stdout",
     "output_type": "stream",
     "text": [
      "2\n"
     ]
    }
   ],
   "source": [
    "#Staying Connected\n",
    "v = 5\n",
    "e = 6\n",
    "edges = [[0,1],[0,3],[0,4],[1,4],[2,3],[3,4]]\n",
    "\n",
    "v = 5\n",
    "e = 4\n",
    "edges = [[0,1],[0,2],[1,2],[3,4]]\n",
    "dic = {}\n",
    "for i in range(v):\n",
    "    dic[i] = {i}\n",
    "for edge in edges:\n",
    "    if edge[0] in dic.keys() and edge[1] in dic.keys():\n",
    "        dic[min(edge)] = dic[min(edge)] | dic[max(edge)]\n",
    "        del dic[max(edge)]\n",
    "    else:\n",
    "        if edge[0] in dic.keys():\n",
    "            for val in dic.values():\n",
    "                if edge[1] in val:\n",
    "                    val = val | dic[edge[0]]\n",
    "                    del dic[edge[0]]\n",
    "                    break\n",
    "        elif edge[1] in dic.keys():\n",
    "            for val in dic.values():\n",
    "                if edge[0] in val:\n",
    "                    val = val | dic[edge[1]]\n",
    "                    del dic[edge[1]]\n",
    "                    break\n",
    "print(len(dic))"
   ]
  },
  {
   "cell_type": "code",
   "execution_count": 17,
   "metadata": {},
   "outputs": [
    {
     "name": "stdout",
     "output_type": "stream",
     "text": [
      "1 PRINCESS\n",
      "1 BARON\n",
      "1 PRIEST\n",
      "1 COMMONER\n"
     ]
    }
   ],
   "source": [
    "#What's in an Name?\n",
    "community = \"mentior\"\n",
    "n = 4\n",
    "s_list = [\"mentioromenas\", \"asmentiorones\", \"summentior\", \"menolaxios\"]\n",
    "\n",
    "# community = \"ios\"\n",
    "# n = 3\n",
    "# s_list = [\"apalaxios\", \"menolaxios\", \"somolaxios\"]\n",
    "\n",
    "counts = [0,0,0,0]\n",
    "names = [\"PRINCESS\", \"BARON\", \"PRIEST\", \"COMMONER\"]\n",
    "for s in s_list:\n",
    "    idx = s.find(community)\n",
    "    if idx == 0:\n",
    "        counts[0] = counts[0] + 1\n",
    "    elif idx == len(s) - len(community):\n",
    "        counts[1] = counts[1] + 1\n",
    "    elif idx == -1:\n",
    "        counts[3] = counts[3] + 1\n",
    "    else:\n",
    "        counts[2] = counts[2] + 1\n",
    "for i in range(4):\n",
    "    print(counts[i],names[i])"
   ]
  },
  {
   "cell_type": "code",
   "execution_count": null,
   "metadata": {},
   "outputs": [],
   "source": []
  }
 ],
 "metadata": {
  "kernelspec": {
   "display_name": "Python 3",
   "language": "python",
   "name": "python3"
  },
  "language_info": {
   "codemirror_mode": {
    "name": "ipython",
    "version": 3
   },
   "file_extension": ".py",
   "mimetype": "text/x-python",
   "name": "python",
   "nbconvert_exporter": "python",
   "pygments_lexer": "ipython3",
   "version": "3.6.5"
  }
 },
 "nbformat": 4,
 "nbformat_minor": 2
}
